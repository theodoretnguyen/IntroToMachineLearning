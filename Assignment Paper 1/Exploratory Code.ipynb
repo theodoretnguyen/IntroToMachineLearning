{
 "cells": [
  {
   "cell_type": "code",
   "execution_count": 16,
   "metadata": {},
   "outputs": [],
   "source": [
    "import pandas as pd\n",
    "import numpy as np\n",
    "from matplotlib import pyplot as plt\n",
    "%matplotlib inline\n",
    "import seaborn as sns"
   ]
  },
  {
   "cell_type": "code",
   "execution_count": 17,
   "metadata": {},
   "outputs": [
    {
     "data": {
      "text/html": [
       "<div>\n",
       "<style scoped>\n",
       "    .dataframe tbody tr th:only-of-type {\n",
       "        vertical-align: middle;\n",
       "    }\n",
       "\n",
       "    .dataframe tbody tr th {\n",
       "        vertical-align: top;\n",
       "    }\n",
       "\n",
       "    .dataframe thead th {\n",
       "        text-align: right;\n",
       "    }\n",
       "</style>\n",
       "<table border=\"1\" class=\"dataframe\">\n",
       "  <thead>\n",
       "    <tr style=\"text-align: right;\">\n",
       "      <th></th>\n",
       "      <th>Wine</th>\n",
       "      <th>Alcohol</th>\n",
       "      <th>Malic.acid</th>\n",
       "      <th>Ash</th>\n",
       "      <th>Acl</th>\n",
       "      <th>Mg</th>\n",
       "      <th>Phenols</th>\n",
       "      <th>Flavanoids</th>\n",
       "      <th>Nonflavanoid.phenols</th>\n",
       "      <th>Proanth</th>\n",
       "      <th>Color.int</th>\n",
       "      <th>Hue</th>\n",
       "      <th>OD</th>\n",
       "      <th>Proline</th>\n",
       "    </tr>\n",
       "  </thead>\n",
       "  <tbody>\n",
       "    <tr>\n",
       "      <th>0</th>\n",
       "      <td>1</td>\n",
       "      <td>14.23</td>\n",
       "      <td>1.71</td>\n",
       "      <td>2.43</td>\n",
       "      <td>15.6</td>\n",
       "      <td>127</td>\n",
       "      <td>2.80</td>\n",
       "      <td>3.06</td>\n",
       "      <td>0.28</td>\n",
       "      <td>2.29</td>\n",
       "      <td>5.64</td>\n",
       "      <td>1.04</td>\n",
       "      <td>3.92</td>\n",
       "      <td>1065</td>\n",
       "    </tr>\n",
       "    <tr>\n",
       "      <th>1</th>\n",
       "      <td>1</td>\n",
       "      <td>13.20</td>\n",
       "      <td>1.78</td>\n",
       "      <td>2.14</td>\n",
       "      <td>11.2</td>\n",
       "      <td>100</td>\n",
       "      <td>2.65</td>\n",
       "      <td>2.76</td>\n",
       "      <td>0.26</td>\n",
       "      <td>1.28</td>\n",
       "      <td>4.38</td>\n",
       "      <td>1.05</td>\n",
       "      <td>3.40</td>\n",
       "      <td>1050</td>\n",
       "    </tr>\n",
       "    <tr>\n",
       "      <th>2</th>\n",
       "      <td>1</td>\n",
       "      <td>13.16</td>\n",
       "      <td>2.36</td>\n",
       "      <td>2.67</td>\n",
       "      <td>18.6</td>\n",
       "      <td>101</td>\n",
       "      <td>2.80</td>\n",
       "      <td>3.24</td>\n",
       "      <td>0.30</td>\n",
       "      <td>2.81</td>\n",
       "      <td>5.68</td>\n",
       "      <td>1.03</td>\n",
       "      <td>3.17</td>\n",
       "      <td>1185</td>\n",
       "    </tr>\n",
       "    <tr>\n",
       "      <th>3</th>\n",
       "      <td>1</td>\n",
       "      <td>14.37</td>\n",
       "      <td>1.95</td>\n",
       "      <td>2.50</td>\n",
       "      <td>16.8</td>\n",
       "      <td>113</td>\n",
       "      <td>3.85</td>\n",
       "      <td>3.49</td>\n",
       "      <td>0.24</td>\n",
       "      <td>2.18</td>\n",
       "      <td>7.80</td>\n",
       "      <td>0.86</td>\n",
       "      <td>3.45</td>\n",
       "      <td>1480</td>\n",
       "    </tr>\n",
       "    <tr>\n",
       "      <th>4</th>\n",
       "      <td>1</td>\n",
       "      <td>13.24</td>\n",
       "      <td>2.59</td>\n",
       "      <td>2.87</td>\n",
       "      <td>21.0</td>\n",
       "      <td>118</td>\n",
       "      <td>2.80</td>\n",
       "      <td>2.69</td>\n",
       "      <td>0.39</td>\n",
       "      <td>1.82</td>\n",
       "      <td>4.32</td>\n",
       "      <td>1.04</td>\n",
       "      <td>2.93</td>\n",
       "      <td>735</td>\n",
       "    </tr>\n",
       "    <tr>\n",
       "      <th>...</th>\n",
       "      <td>...</td>\n",
       "      <td>...</td>\n",
       "      <td>...</td>\n",
       "      <td>...</td>\n",
       "      <td>...</td>\n",
       "      <td>...</td>\n",
       "      <td>...</td>\n",
       "      <td>...</td>\n",
       "      <td>...</td>\n",
       "      <td>...</td>\n",
       "      <td>...</td>\n",
       "      <td>...</td>\n",
       "      <td>...</td>\n",
       "      <td>...</td>\n",
       "    </tr>\n",
       "    <tr>\n",
       "      <th>173</th>\n",
       "      <td>3</td>\n",
       "      <td>13.71</td>\n",
       "      <td>5.65</td>\n",
       "      <td>2.45</td>\n",
       "      <td>20.5</td>\n",
       "      <td>95</td>\n",
       "      <td>1.68</td>\n",
       "      <td>0.61</td>\n",
       "      <td>0.52</td>\n",
       "      <td>1.06</td>\n",
       "      <td>7.70</td>\n",
       "      <td>0.64</td>\n",
       "      <td>1.74</td>\n",
       "      <td>740</td>\n",
       "    </tr>\n",
       "    <tr>\n",
       "      <th>174</th>\n",
       "      <td>3</td>\n",
       "      <td>13.40</td>\n",
       "      <td>3.91</td>\n",
       "      <td>2.48</td>\n",
       "      <td>23.0</td>\n",
       "      <td>102</td>\n",
       "      <td>1.80</td>\n",
       "      <td>0.75</td>\n",
       "      <td>0.43</td>\n",
       "      <td>1.41</td>\n",
       "      <td>7.30</td>\n",
       "      <td>0.70</td>\n",
       "      <td>1.56</td>\n",
       "      <td>750</td>\n",
       "    </tr>\n",
       "    <tr>\n",
       "      <th>175</th>\n",
       "      <td>3</td>\n",
       "      <td>13.27</td>\n",
       "      <td>4.28</td>\n",
       "      <td>2.26</td>\n",
       "      <td>20.0</td>\n",
       "      <td>120</td>\n",
       "      <td>1.59</td>\n",
       "      <td>0.69</td>\n",
       "      <td>0.43</td>\n",
       "      <td>1.35</td>\n",
       "      <td>10.20</td>\n",
       "      <td>0.59</td>\n",
       "      <td>1.56</td>\n",
       "      <td>835</td>\n",
       "    </tr>\n",
       "    <tr>\n",
       "      <th>176</th>\n",
       "      <td>3</td>\n",
       "      <td>13.17</td>\n",
       "      <td>2.59</td>\n",
       "      <td>2.37</td>\n",
       "      <td>20.0</td>\n",
       "      <td>120</td>\n",
       "      <td>1.65</td>\n",
       "      <td>0.68</td>\n",
       "      <td>0.53</td>\n",
       "      <td>1.46</td>\n",
       "      <td>9.30</td>\n",
       "      <td>0.60</td>\n",
       "      <td>1.62</td>\n",
       "      <td>840</td>\n",
       "    </tr>\n",
       "    <tr>\n",
       "      <th>177</th>\n",
       "      <td>3</td>\n",
       "      <td>14.13</td>\n",
       "      <td>4.10</td>\n",
       "      <td>2.74</td>\n",
       "      <td>24.5</td>\n",
       "      <td>96</td>\n",
       "      <td>2.05</td>\n",
       "      <td>0.76</td>\n",
       "      <td>0.56</td>\n",
       "      <td>1.35</td>\n",
       "      <td>9.20</td>\n",
       "      <td>0.61</td>\n",
       "      <td>1.60</td>\n",
       "      <td>560</td>\n",
       "    </tr>\n",
       "  </tbody>\n",
       "</table>\n",
       "<p>178 rows × 14 columns</p>\n",
       "</div>"
      ],
      "text/plain": [
       "     Wine  Alcohol  Malic.acid   Ash   Acl   Mg  Phenols  Flavanoids  \\\n",
       "0       1    14.23        1.71  2.43  15.6  127     2.80        3.06   \n",
       "1       1    13.20        1.78  2.14  11.2  100     2.65        2.76   \n",
       "2       1    13.16        2.36  2.67  18.6  101     2.80        3.24   \n",
       "3       1    14.37        1.95  2.50  16.8  113     3.85        3.49   \n",
       "4       1    13.24        2.59  2.87  21.0  118     2.80        2.69   \n",
       "..    ...      ...         ...   ...   ...  ...      ...         ...   \n",
       "173     3    13.71        5.65  2.45  20.5   95     1.68        0.61   \n",
       "174     3    13.40        3.91  2.48  23.0  102     1.80        0.75   \n",
       "175     3    13.27        4.28  2.26  20.0  120     1.59        0.69   \n",
       "176     3    13.17        2.59  2.37  20.0  120     1.65        0.68   \n",
       "177     3    14.13        4.10  2.74  24.5   96     2.05        0.76   \n",
       "\n",
       "     Nonflavanoid.phenols  Proanth  Color.int   Hue    OD  Proline  \n",
       "0                    0.28     2.29       5.64  1.04  3.92     1065  \n",
       "1                    0.26     1.28       4.38  1.05  3.40     1050  \n",
       "2                    0.30     2.81       5.68  1.03  3.17     1185  \n",
       "3                    0.24     2.18       7.80  0.86  3.45     1480  \n",
       "4                    0.39     1.82       4.32  1.04  2.93      735  \n",
       "..                    ...      ...        ...   ...   ...      ...  \n",
       "173                  0.52     1.06       7.70  0.64  1.74      740  \n",
       "174                  0.43     1.41       7.30  0.70  1.56      750  \n",
       "175                  0.43     1.35      10.20  0.59  1.56      835  \n",
       "176                  0.53     1.46       9.30  0.60  1.62      840  \n",
       "177                  0.56     1.35       9.20  0.61  1.60      560  \n",
       "\n",
       "[178 rows x 14 columns]"
      ]
     },
     "execution_count": 17,
     "metadata": {},
     "output_type": "execute_result"
    }
   ],
   "source": [
    "wines = pd.read_csv('wine.csv')\n",
    "wines"
   ]
  },
  {
   "cell_type": "code",
   "execution_count": 18,
   "metadata": {},
   "outputs": [
    {
     "data": {
      "text/plain": [
       "array([1, 2, 3])"
      ]
     },
     "execution_count": 18,
     "metadata": {},
     "output_type": "execute_result"
    }
   ],
   "source": [
    "wines.Wine.unique()"
   ]
  },
  {
   "cell_type": "code",
   "execution_count": 19,
   "metadata": {},
   "outputs": [
    {
     "data": {
      "text/html": [
       "<div>\n",
       "<style scoped>\n",
       "    .dataframe tbody tr th:only-of-type {\n",
       "        vertical-align: middle;\n",
       "    }\n",
       "\n",
       "    .dataframe tbody tr th {\n",
       "        vertical-align: top;\n",
       "    }\n",
       "\n",
       "    .dataframe thead th {\n",
       "        text-align: right;\n",
       "    }\n",
       "</style>\n",
       "<table border=\"1\" class=\"dataframe\">\n",
       "  <thead>\n",
       "    <tr style=\"text-align: right;\">\n",
       "      <th></th>\n",
       "      <th>Wine</th>\n",
       "      <th>Alcohol</th>\n",
       "      <th>Malic.acid</th>\n",
       "      <th>Ash</th>\n",
       "      <th>Acl</th>\n",
       "      <th>Mg</th>\n",
       "      <th>Phenols</th>\n",
       "      <th>Flavanoids</th>\n",
       "      <th>Nonflavanoid.phenols</th>\n",
       "      <th>Proanth</th>\n",
       "      <th>Color.int</th>\n",
       "      <th>Hue</th>\n",
       "      <th>OD</th>\n",
       "      <th>Proline</th>\n",
       "    </tr>\n",
       "  </thead>\n",
       "  <tbody>\n",
       "    <tr>\n",
       "      <th>count</th>\n",
       "      <td>178.000000</td>\n",
       "      <td>178.000000</td>\n",
       "      <td>178.000000</td>\n",
       "      <td>178.000000</td>\n",
       "      <td>178.000000</td>\n",
       "      <td>178.000000</td>\n",
       "      <td>178.000000</td>\n",
       "      <td>178.000000</td>\n",
       "      <td>178.000000</td>\n",
       "      <td>178.000000</td>\n",
       "      <td>178.000000</td>\n",
       "      <td>178.000000</td>\n",
       "      <td>178.000000</td>\n",
       "      <td>178.000000</td>\n",
       "    </tr>\n",
       "    <tr>\n",
       "      <th>mean</th>\n",
       "      <td>1.938202</td>\n",
       "      <td>13.000618</td>\n",
       "      <td>2.336348</td>\n",
       "      <td>2.366517</td>\n",
       "      <td>19.494944</td>\n",
       "      <td>99.741573</td>\n",
       "      <td>2.295112</td>\n",
       "      <td>2.029270</td>\n",
       "      <td>0.361854</td>\n",
       "      <td>1.590899</td>\n",
       "      <td>5.058090</td>\n",
       "      <td>0.957449</td>\n",
       "      <td>2.611685</td>\n",
       "      <td>746.893258</td>\n",
       "    </tr>\n",
       "    <tr>\n",
       "      <th>std</th>\n",
       "      <td>0.775035</td>\n",
       "      <td>0.811827</td>\n",
       "      <td>1.117146</td>\n",
       "      <td>0.274344</td>\n",
       "      <td>3.339564</td>\n",
       "      <td>14.282484</td>\n",
       "      <td>0.625851</td>\n",
       "      <td>0.998859</td>\n",
       "      <td>0.124453</td>\n",
       "      <td>0.572359</td>\n",
       "      <td>2.318286</td>\n",
       "      <td>0.228572</td>\n",
       "      <td>0.709990</td>\n",
       "      <td>314.907474</td>\n",
       "    </tr>\n",
       "    <tr>\n",
       "      <th>min</th>\n",
       "      <td>1.000000</td>\n",
       "      <td>11.030000</td>\n",
       "      <td>0.740000</td>\n",
       "      <td>1.360000</td>\n",
       "      <td>10.600000</td>\n",
       "      <td>70.000000</td>\n",
       "      <td>0.980000</td>\n",
       "      <td>0.340000</td>\n",
       "      <td>0.130000</td>\n",
       "      <td>0.410000</td>\n",
       "      <td>1.280000</td>\n",
       "      <td>0.480000</td>\n",
       "      <td>1.270000</td>\n",
       "      <td>278.000000</td>\n",
       "    </tr>\n",
       "    <tr>\n",
       "      <th>25%</th>\n",
       "      <td>1.000000</td>\n",
       "      <td>12.362500</td>\n",
       "      <td>1.602500</td>\n",
       "      <td>2.210000</td>\n",
       "      <td>17.200000</td>\n",
       "      <td>88.000000</td>\n",
       "      <td>1.742500</td>\n",
       "      <td>1.205000</td>\n",
       "      <td>0.270000</td>\n",
       "      <td>1.250000</td>\n",
       "      <td>3.220000</td>\n",
       "      <td>0.782500</td>\n",
       "      <td>1.937500</td>\n",
       "      <td>500.500000</td>\n",
       "    </tr>\n",
       "    <tr>\n",
       "      <th>50%</th>\n",
       "      <td>2.000000</td>\n",
       "      <td>13.050000</td>\n",
       "      <td>1.865000</td>\n",
       "      <td>2.360000</td>\n",
       "      <td>19.500000</td>\n",
       "      <td>98.000000</td>\n",
       "      <td>2.355000</td>\n",
       "      <td>2.135000</td>\n",
       "      <td>0.340000</td>\n",
       "      <td>1.555000</td>\n",
       "      <td>4.690000</td>\n",
       "      <td>0.965000</td>\n",
       "      <td>2.780000</td>\n",
       "      <td>673.500000</td>\n",
       "    </tr>\n",
       "    <tr>\n",
       "      <th>75%</th>\n",
       "      <td>3.000000</td>\n",
       "      <td>13.677500</td>\n",
       "      <td>3.082500</td>\n",
       "      <td>2.557500</td>\n",
       "      <td>21.500000</td>\n",
       "      <td>107.000000</td>\n",
       "      <td>2.800000</td>\n",
       "      <td>2.875000</td>\n",
       "      <td>0.437500</td>\n",
       "      <td>1.950000</td>\n",
       "      <td>6.200000</td>\n",
       "      <td>1.120000</td>\n",
       "      <td>3.170000</td>\n",
       "      <td>985.000000</td>\n",
       "    </tr>\n",
       "    <tr>\n",
       "      <th>max</th>\n",
       "      <td>3.000000</td>\n",
       "      <td>14.830000</td>\n",
       "      <td>5.800000</td>\n",
       "      <td>3.230000</td>\n",
       "      <td>30.000000</td>\n",
       "      <td>162.000000</td>\n",
       "      <td>3.880000</td>\n",
       "      <td>5.080000</td>\n",
       "      <td>0.660000</td>\n",
       "      <td>3.580000</td>\n",
       "      <td>13.000000</td>\n",
       "      <td>1.710000</td>\n",
       "      <td>4.000000</td>\n",
       "      <td>1680.000000</td>\n",
       "    </tr>\n",
       "  </tbody>\n",
       "</table>\n",
       "</div>"
      ],
      "text/plain": [
       "             Wine     Alcohol  Malic.acid         Ash         Acl          Mg  \\\n",
       "count  178.000000  178.000000  178.000000  178.000000  178.000000  178.000000   \n",
       "mean     1.938202   13.000618    2.336348    2.366517   19.494944   99.741573   \n",
       "std      0.775035    0.811827    1.117146    0.274344    3.339564   14.282484   \n",
       "min      1.000000   11.030000    0.740000    1.360000   10.600000   70.000000   \n",
       "25%      1.000000   12.362500    1.602500    2.210000   17.200000   88.000000   \n",
       "50%      2.000000   13.050000    1.865000    2.360000   19.500000   98.000000   \n",
       "75%      3.000000   13.677500    3.082500    2.557500   21.500000  107.000000   \n",
       "max      3.000000   14.830000    5.800000    3.230000   30.000000  162.000000   \n",
       "\n",
       "          Phenols  Flavanoids  Nonflavanoid.phenols     Proanth   Color.int  \\\n",
       "count  178.000000  178.000000            178.000000  178.000000  178.000000   \n",
       "mean     2.295112    2.029270              0.361854    1.590899    5.058090   \n",
       "std      0.625851    0.998859              0.124453    0.572359    2.318286   \n",
       "min      0.980000    0.340000              0.130000    0.410000    1.280000   \n",
       "25%      1.742500    1.205000              0.270000    1.250000    3.220000   \n",
       "50%      2.355000    2.135000              0.340000    1.555000    4.690000   \n",
       "75%      2.800000    2.875000              0.437500    1.950000    6.200000   \n",
       "max      3.880000    5.080000              0.660000    3.580000   13.000000   \n",
       "\n",
       "              Hue          OD      Proline  \n",
       "count  178.000000  178.000000   178.000000  \n",
       "mean     0.957449    2.611685   746.893258  \n",
       "std      0.228572    0.709990   314.907474  \n",
       "min      0.480000    1.270000   278.000000  \n",
       "25%      0.782500    1.937500   500.500000  \n",
       "50%      0.965000    2.780000   673.500000  \n",
       "75%      1.120000    3.170000   985.000000  \n",
       "max      1.710000    4.000000  1680.000000  "
      ]
     },
     "execution_count": 19,
     "metadata": {},
     "output_type": "execute_result"
    }
   ],
   "source": [
    "wines.describe()"
   ]
  },
  {
   "cell_type": "code",
   "execution_count": 20,
   "metadata": {},
   "outputs": [
    {
     "data": {
      "text/plain": [
       "Index(['Wine', 'Alcohol', 'Malic.acid', 'Ash', 'Acl', 'Mg', 'Phenols',\n",
       "       'Flavanoids', 'Nonflavanoid.phenols', 'Proanth', 'Color.int', 'Hue',\n",
       "       'OD', 'Proline'],\n",
       "      dtype='object')"
      ]
     },
     "execution_count": 20,
     "metadata": {},
     "output_type": "execute_result"
    }
   ],
   "source": [
    "wines.columns"
   ]
  },
  {
   "cell_type": "code",
   "execution_count": 21,
   "metadata": {},
   "outputs": [],
   "source": [
    "def prep_wine_data(data):\n",
    "    \"\"\"\n",
    "    Prepares wines data frame for machine learning models.\n",
    "    \n",
    "    Parameters\n",
    "    ----------\n",
    "    data : pandas.DataFrame to be prepared\n",
    "    \n",
    "    Return\n",
    "    ----------\n",
    "    (X, y) : pandas.DataFrame without Wine column, pandas.Series of Wine column\n",
    "    \"\"\"\n",
    "    \n",
    "    #Copy data frame\n",
    "    df = data.copy()\n",
    "    \n",
    "    #Create X, where X is the data frame without the Wine column\n",
    "    #X serves as the predictor variables\n",
    "    X = df.drop([\"Wine\"], axis = 1)\n",
    "    \n",
    "    #Create y, where y just contains the Wine column\n",
    "    #y serves as the target variable\n",
    "    y = df[\"Wine\"]\n",
    "    return X,y"
   ]
  },
  {
   "cell_type": "code",
   "execution_count": 22,
   "metadata": {},
   "outputs": [],
   "source": [
    "from sklearn.model_selection import train_test_split\n",
    "\n",
    "# Split wines data into training data and testing data with a 70%/30% ratio, respectively\n",
    "train, test = train_test_split(wines, test_size = 0.3)\n",
    "\n",
    "# Create predictor variables and target variable from training data using data preparation function\n",
    "X_train, y_train = prep_wine_data(train)"
   ]
  },
  {
   "cell_type": "code",
   "execution_count": 23,
   "metadata": {},
   "outputs": [],
   "source": [
    "from sklearn.linear_model import LogisticRegression\n",
    "from sklearn.model_selection import cross_val_score\n",
    "\n",
    "def check_column_scores(cols):\n",
    "    \"\"\"\n",
    "    Trains and evaluates Logistic Regression via crossvalidation on the columns\n",
    "    of the dataset with select indeces\n",
    "    \n",
    "    Parameters\n",
    "    ----------\n",
    "    cols : list of strings, columns on which to be trained\n",
    "    \n",
    "    Return\n",
    "    ----------\n",
    "    float : average of 5 cross validation scores\n",
    "    \"\"\"\n",
    "    \n",
    "    #Logistic Regression Model\n",
    "    LR = LogisticRegression(max_iter = 5000)\n",
    "    \n",
    "    return cross_val_score(LR, X_train[cols], y_train, cv = 5).mean()"
   ]
  },
  {
   "cell_type": "code",
   "execution_count": 24,
   "metadata": {},
   "outputs": [
    {
     "name": "stdout",
     "output_type": "stream",
     "text": [
      "156\n"
     ]
    }
   ],
   "source": [
    "import itertools\n",
    "features = []\n",
    "for col in wines.columns:\n",
    "    features.append(col)\n",
    "features.remove('Wine')\n",
    "\n",
    "combos = [[feature1]+[feature2] for feature1 in features for feature2 in features if feature1 != feature2]\n",
    "\n",
    "print(len(combos))"
   ]
  },
  {
   "cell_type": "code",
   "execution_count": 25,
   "metadata": {},
   "outputs": [
    {
     "name": "stdout",
     "output_type": "stream",
     "text": [
      "Best combo: ['Flavanoids', 'Proline']\n",
      "which produces CV score: 0.9196666666666665\n",
      "\n",
      "['Flavanoids', 'Proline']  :  0.9196666666666665\n",
      "['Proline', 'Flavanoids']  :  0.9196666666666665\n",
      "['Alcohol', 'Flavanoids']  :  0.9116666666666667\n",
      "['Flavanoids', 'Alcohol']  :  0.9116666666666667\n",
      "['Color.int', 'Proline']  :  0.9036666666666667\n",
      "['Proline', 'Color.int']  :  0.9036666666666667\n",
      "['Color.int', 'OD']  :  0.8953333333333333\n",
      "['OD', 'Color.int']  :  0.8953333333333333\n",
      "['Alcohol', 'OD']  :  0.8713333333333333\n",
      "['OD', 'Alcohol']  :  0.8713333333333333\n",
      "['OD', 'Proline']  :  0.8713333333333333\n",
      "['Proline', 'OD']  :  0.8713333333333333\n",
      "['Phenols', 'Color.int']  :  0.8633333333333333\n",
      "['Flavanoids', 'Color.int']  :  0.8633333333333333\n",
      "['Color.int', 'Phenols']  :  0.8633333333333333\n",
      "['Color.int', 'Flavanoids']  :  0.8633333333333333\n",
      "['Hue', 'Proline']  :  0.8626666666666667\n",
      "['Proline', 'Hue']  :  0.8626666666666667\n",
      "['Proanth', 'Color.int']  :  0.8473333333333333\n",
      "['Color.int', 'Proanth']  :  0.8473333333333333\n",
      "['Alcohol', 'Color.int']  :  0.8390000000000001\n",
      "['Color.int', 'Alcohol']  :  0.8390000000000001\n",
      "['Acl', 'Flavanoids']  :  0.8386666666666667\n",
      "['Flavanoids', 'Acl']  :  0.8386666666666667\n",
      "['Phenols', 'Proline']  :  0.8230000000000001\n",
      "['Proline', 'Phenols']  :  0.8230000000000001\n",
      "['Alcohol', 'Phenols']  :  0.8153333333333335\n",
      "['Phenols', 'Alcohol']  :  0.8153333333333335\n",
      "['Alcohol', 'Hue']  :  0.8150000000000001\n",
      "['Hue', 'Alcohol']  :  0.8150000000000001\n",
      "['Malic.acid', 'Proline']  :  0.8143333333333335\n",
      "['Proline', 'Malic.acid']  :  0.8143333333333335\n",
      "['Mg', 'Flavanoids']  :  0.8073333333333335\n",
      "['Flavanoids', 'Mg']  :  0.8073333333333335\n",
      "['Flavanoids', 'Proanth']  :  0.807\n",
      "['Flavanoids', 'Hue']  :  0.807\n",
      "['Proanth', 'Flavanoids']  :  0.807\n",
      "['Hue', 'Flavanoids']  :  0.807\n",
      "['Alcohol', 'Proline']  :  0.8063333333333335\n",
      "['Proline', 'Alcohol']  :  0.8063333333333335\n",
      "['Color.int', 'Hue']  :  0.8063333333333332\n",
      "['Hue', 'Color.int']  :  0.8063333333333332\n",
      "['Malic.acid', 'Flavanoids']  :  0.791\n",
      "['Ash', 'Flavanoids']  :  0.791\n",
      "['Phenols', 'Flavanoids']  :  0.791\n",
      "['Flavanoids', 'Malic.acid']  :  0.791\n",
      "['Flavanoids', 'Ash']  :  0.791\n",
      "['Flavanoids', 'Phenols']  :  0.791\n",
      "['Alcohol', 'Malic.acid']  :  0.783\n",
      "['Malic.acid', 'Alcohol']  :  0.783\n",
      "['Flavanoids', 'Nonflavanoid.phenols']  :  0.7826666666666667\n",
      "['Nonflavanoid.phenols', 'Flavanoids']  :  0.7826666666666667\n",
      "['Mg', 'Color.int']  :  0.782\n",
      "['Color.int', 'Mg']  :  0.782\n",
      "['Flavanoids', 'OD']  :  0.775\n",
      "['OD', 'Flavanoids']  :  0.775\n",
      "['Nonflavanoid.phenols', 'Proline']  :  0.7743333333333333\n",
      "['Proline', 'Nonflavanoid.phenols']  :  0.7743333333333333\n",
      "['Acl', 'OD']  :  0.774\n",
      "['OD', 'Acl']  :  0.774\n",
      "['Alcohol', 'Nonflavanoid.phenols']  :  0.7586666666666667\n",
      "['Mg', 'OD']  :  0.7586666666666667\n",
      "['Nonflavanoid.phenols', 'Alcohol']  :  0.7586666666666667\n",
      "['OD', 'Mg']  :  0.7586666666666667\n",
      "['Alcohol', 'Acl']  :  0.7583333333333333\n",
      "['Acl', 'Alcohol']  :  0.7583333333333333\n",
      "['Proanth', 'Proline']  :  0.758\n",
      "['Proline', 'Proanth']  :  0.758\n",
      "['Malic.acid', 'Color.int']  :  0.7576666666666667\n",
      "['Color.int', 'Malic.acid']  :  0.7576666666666667\n",
      "['Acl', 'Proline']  :  0.7573333333333333\n",
      "['Proline', 'Acl']  :  0.7573333333333333\n",
      "['Alcohol', 'Proanth']  :  0.7513333333333333\n",
      "['Proanth', 'Alcohol']  :  0.7513333333333333\n",
      "['Ash', 'Proline']  :  0.75\n",
      "['Proline', 'Ash']  :  0.75\n",
      "['Nonflavanoid.phenols', 'Color.int']  :  0.742\n",
      "['Color.int', 'Nonflavanoid.phenols']  :  0.742\n",
      "['Acl', 'Color.int']  :  0.7416666666666667\n",
      "['Color.int', 'Acl']  :  0.7416666666666667\n",
      "['Ash', 'Color.int']  :  0.7336666666666667\n",
      "['Color.int', 'Ash']  :  0.7336666666666667\n",
      "['Acl', 'Phenols']  :  0.6950000000000001\n",
      "['Phenols', 'Acl']  :  0.6950000000000001\n",
      "['Alcohol', 'Ash']  :  0.6940000000000001\n",
      "['Ash', 'Alcohol']  :  0.6940000000000001\n",
      "['Phenols', 'Hue']  :  0.6940000000000001\n",
      "['Hue', 'Phenols']  :  0.6940000000000001\n",
      "['Mg', 'Proline']  :  0.6926666666666667\n",
      "['Proline', 'Mg']  :  0.6926666666666667\n",
      "['Mg', 'Hue']  :  0.6863333333333334\n",
      "['Hue', 'Mg']  :  0.6863333333333334\n",
      "['Acl', 'Hue']  :  0.6853333333333333\n",
      "['Hue', 'Acl']  :  0.6853333333333333\n",
      "['Ash', 'OD']  :  0.679\n",
      "['OD', 'Ash']  :  0.679\n",
      "['Alcohol', 'Mg']  :  0.678\n",
      "['Mg', 'Alcohol']  :  0.678\n",
      "['Phenols', 'OD']  :  0.6776666666666668\n",
      "['OD', 'Phenols']  :  0.6776666666666668\n",
      "['Mg', 'Phenols']  :  0.6703333333333334\n",
      "['Phenols', 'Mg']  :  0.6703333333333334\n",
      "['Malic.acid', 'Phenols']  :  0.6536666666666667\n",
      "['Phenols', 'Malic.acid']  :  0.6536666666666667\n",
      "['Phenols', 'Nonflavanoid.phenols']  :  0.6536666666666667\n",
      "['Nonflavanoid.phenols', 'Phenols']  :  0.6536666666666667\n",
      "['Ash', 'Phenols']  :  0.6463333333333333\n",
      "['Phenols', 'Ash']  :  0.6463333333333333\n",
      "['Malic.acid', 'Mg']  :  0.6376666666666667\n",
      "['Mg', 'Malic.acid']  :  0.6376666666666667\n",
      "['Malic.acid', 'Acl']  :  0.6366666666666667\n",
      "['Acl', 'Malic.acid']  :  0.6366666666666667\n",
      "['Mg', 'Proanth']  :  0.631\n",
      "['Proanth', 'Mg']  :  0.631\n",
      "['Malic.acid', 'OD']  :  0.6303333333333333\n",
      "['OD', 'Malic.acid']  :  0.6303333333333333\n",
      "['Acl', 'Proanth']  :  0.6223333333333334\n",
      "['Nonflavanoid.phenols', 'OD']  :  0.6223333333333334\n",
      "['Proanth', 'Acl']  :  0.6223333333333334\n",
      "['OD', 'Nonflavanoid.phenols']  :  0.6223333333333334\n",
      "['Proanth', 'OD']  :  0.598\n",
      "['OD', 'Proanth']  :  0.598\n",
      "['Acl', 'Mg']  :  0.5973333333333334\n",
      "['Mg', 'Acl']  :  0.5973333333333334\n",
      "['Ash', 'Hue']  :  0.5970000000000001\n",
      "['Hue', 'Ash']  :  0.5970000000000001\n",
      "['Proanth', 'Hue']  :  0.597\n",
      "['Hue', 'Proanth']  :  0.597\n",
      "['Nonflavanoid.phenols', 'Hue']  :  0.596\n",
      "['Hue', 'Nonflavanoid.phenols']  :  0.596\n",
      "['Ash', 'Acl']  :  0.5900000000000001\n",
      "['Acl', 'Ash']  :  0.5900000000000001\n",
      "['Phenols', 'Proanth']  :  0.5900000000000001\n",
      "['Proanth', 'Phenols']  :  0.5900000000000001\n",
      "['Mg', 'Nonflavanoid.phenols']  :  0.5806666666666668\n",
      "['Nonflavanoid.phenols', 'Mg']  :  0.5806666666666668\n",
      "['Hue', 'OD']  :  0.5806666666666668\n",
      "['OD', 'Hue']  :  0.5806666666666668\n",
      "['Malic.acid', 'Hue']  :  0.5636666666666668\n",
      "['Hue', 'Malic.acid']  :  0.5636666666666668\n",
      "['Acl', 'Nonflavanoid.phenols']  :  0.5396666666666667\n",
      "['Nonflavanoid.phenols', 'Acl']  :  0.5396666666666667\n",
      "['Ash', 'Nonflavanoid.phenols']  :  0.5323333333333333\n",
      "['Nonflavanoid.phenols', 'Ash']  :  0.5323333333333333\n",
      "['Malic.acid', 'Ash']  :  0.524\n",
      "['Ash', 'Malic.acid']  :  0.524\n",
      "['Ash', 'Mg']  :  0.5086666666666667\n",
      "['Mg', 'Ash']  :  0.5086666666666667\n",
      "['Malic.acid', 'Proanth']  :  0.5083333333333333\n",
      "['Proanth', 'Malic.acid']  :  0.5083333333333333\n",
      "['Ash', 'Proanth']  :  0.5013333333333333\n",
      "['Proanth', 'Ash']  :  0.5013333333333333\n",
      "['Malic.acid', 'Nonflavanoid.phenols']  :  0.4996666666666667\n",
      "['Nonflavanoid.phenols', 'Malic.acid']  :  0.4996666666666667\n",
      "['Nonflavanoid.phenols', 'Proanth']  :  0.4686666666666667\n",
      "['Proanth', 'Nonflavanoid.phenols']  :  0.4686666666666667\n"
     ]
    }
   ],
   "source": [
    "# Create empty list to store cross validation scores\n",
    "cv_scores = []\n",
    "# Set the best cross validation score to be negative infinity\n",
    "best_cv_score = -np.inf\n",
    "# Create dictionary where keys are the combos and values are the cv scores\n",
    "my_dict = {}\n",
    "\n",
    "#Loop through every column combination\n",
    "for combo in combos:\n",
    "    # Apply check_column_scores function on combo\n",
    "    score = check_column_scores(combo)\n",
    "    # Add the key:value pair to my_dict\n",
    "    my_dict[str(combo)] = score\n",
    "    # Add the score to cv_scores\n",
    "    cv_scores.append(score)\n",
    "    \n",
    "    # If the most recent score is better than best_cv_score,\n",
    "    # reassign best_cv_score and assign combo to best_combo\n",
    "    if cv_scores[-1] > best_cv_score:\n",
    "        best_cv_score = cv_scores[-1]\n",
    "        best_combo = combo\n",
    "\n",
    "# Print the best column combination and its cross validation score\n",
    "print(\"Best combo: \" + str(best_combo))\n",
    "print(\"which produces CV score: \" + str(best_cv_score) + '\\n')\n",
    "\n",
    "# Sort my_dict in descending order by value\n",
    "sorted_dict = dict(sorted(my_dict.items(), key = lambda item: item[1], reverse=True))\n",
    "\n",
    "# Print out key:value pairs in sorted dictionary\n",
    "for key, value in sorted_dict.items():\n",
    "    print(key, ' : ', value)"
   ]
  },
  {
   "cell_type": "code",
   "execution_count": 26,
   "metadata": {},
   "outputs": [
    {
     "name": "stderr",
     "output_type": "stream",
     "text": [
      "/Users/theodorenguyen/opt/anaconda3/lib/python3.8/site-packages/seaborn/_decorators.py:36: FutureWarning: Pass the following variables as keyword args: x, y. From version 0.12, the only valid positional argument will be `data`, and passing other arguments without an explicit keyword will result in an error or misinterpretation.\n",
      "  warnings.warn(\n"
     ]
    },
    {
     "data": {
      "text/plain": [
       "Text(0.5, 1.0, 'Alcohol and Flavanoids')"
      ]
     },
     "execution_count": 26,
     "metadata": {},
     "output_type": "execute_result"
    },
    {
     "data": {
      "image/png": "[encoded data removed]",
      "text/plain": [
       "<Figure size 402.375x360 with 1 Axes>"
      ]
     },
     "metadata": {
      "needs_background": "light"
     },
     "output_type": "display_data"
    }
   ],
   "source": [
    "sns.lmplot('Alcohol', 'Flavanoids',\n",
    "    data = wines, fit_reg = True,\n",
    "    markers = [\"o\", \"x\", \"+\"],\n",
    "    hue = \"Wine\")\n",
    "plt.title('Alcohol and Flavanoids')"
   ]
  },
  {
   "cell_type": "code",
   "execution_count": 27,
   "metadata": {},
   "outputs": [
    {
     "name": "stderr",
     "output_type": "stream",
     "text": [
      "/Users/theodorenguyen/opt/anaconda3/lib/python3.8/site-packages/seaborn/_decorators.py:36: FutureWarning: Pass the following variables as keyword args: x, y. From version 0.12, the only valid positional argument will be `data`, and passing other arguments without an explicit keyword will result in an error or misinterpretation.\n",
      "  warnings.warn(\n"
     ]
    },
    {
     "data": {
      "text/plain": [
       "Text(0.5, 1.0, 'Proline and Flavanoids')"
      ]
     },
     "execution_count": 27,
     "metadata": {},
     "output_type": "execute_result"
    },
    {
     "data": {
      "image/png": "[encoded data removed]",
      "text/plain": [
       "<Figure size 402.375x360 with 1 Axes>"
      ]
     },
     "metadata": {
      "needs_background": "light"
     },
     "output_type": "display_data"
    }
   ],
   "source": [
    "sns.lmplot('Proline', 'Flavanoids',\n",
    "    data = wines, fit_reg = True,\n",
    "    markers = [\"o\", \"x\", \"+\"],\n",
    "    hue = \"Wine\")\n",
    "plt.title('Proline and Flavanoids')"
   ]
  },
  {
   "cell_type": "code",
   "execution_count": 28,
   "metadata": {},
   "outputs": [
    {
     "name": "stderr",
     "output_type": "stream",
     "text": [
      "/Users/theodorenguyen/opt/anaconda3/lib/python3.8/site-packages/seaborn/_decorators.py:36: FutureWarning: Pass the following variables as keyword args: x, y. From version 0.12, the only valid positional argument will be `data`, and passing other arguments without an explicit keyword will result in an error or misinterpretation.\n",
      "  warnings.warn(\n"
     ]
    },
    {
     "data": {
      "text/plain": [
       "Text(0.5, 1.0, 'Proline and OD')"
      ]
     },
     "execution_count": 28,
     "metadata": {},
     "output_type": "execute_result"
    },
    {
     "data": {
      "image/png": "[encoded data removed]",
      "text/plain": [
       "<Figure size 402.375x360 with 1 Axes>"
      ]
     },
     "metadata": {
      "needs_background": "light"
     },
     "output_type": "display_data"
    }
   ],
   "source": [
    "sns.lmplot('Proline', 'OD',\n",
    "    data = wines, fit_reg = True,\n",
    "    markers = [\"o\", \"x\", \"+\"],\n",
    "    hue = \"Wine\")\n",
    "plt.title('Proline and OD')"
   ]
  },
  {
   "cell_type": "code",
   "execution_count": 29,
   "metadata": {},
   "outputs": [
    {
     "name": "stderr",
     "output_type": "stream",
     "text": [
      "/Users/theodorenguyen/opt/anaconda3/lib/python3.8/site-packages/seaborn/_decorators.py:36: FutureWarning: Pass the following variables as keyword args: x, y. From version 0.12, the only valid positional argument will be `data`, and passing other arguments without an explicit keyword will result in an error or misinterpretation.\n",
      "  warnings.warn(\n"
     ]
    },
    {
     "data": {
      "text/plain": [
       "Text(0.5, 1.0, 'Flavanoids and Color.int')"
      ]
     },
     "execution_count": 29,
     "metadata": {},
     "output_type": "execute_result"
    },
    {
     "data": {
      "image/png": "[encoded data removed]",
      "text/plain": [
       "<Figure size 402.375x360 with 1 Axes>"
      ]
     },
     "metadata": {
      "needs_background": "light"
     },
     "output_type": "display_data"
    }
   ],
   "source": [
    "sns.lmplot('Flavanoids', 'Color.int',\n",
    "    data = wines, fit_reg = True,\n",
    "    markers = [\"o\", \"x\", \"+\"],\n",
    "    hue = \"Wine\")\n",
    "plt.title('Flavanoids and Color.int')"
   ]
  },
  {
   "cell_type": "code",
   "execution_count": 30,
   "metadata": {},
   "outputs": [
    {
     "name": "stderr",
     "output_type": "stream",
     "text": [
      "/Users/theodorenguyen/opt/anaconda3/lib/python3.8/site-packages/seaborn/_decorators.py:36: FutureWarning: Pass the following variables as keyword args: x, y. From version 0.12, the only valid positional argument will be `data`, and passing other arguments without an explicit keyword will result in an error or misinterpretation.\n",
      "  warnings.warn(\n"
     ]
    },
    {
     "data": {
      "text/plain": [
       "Text(0.5, 1.0, 'OD and Color.int')"
      ]
     },
     "execution_count": 30,
     "metadata": {},
     "output_type": "execute_result"
    },
    {
     "data": {
      "image/png": "[encoded data removed]",
      "text/plain": [
       "<Figure size 402.375x360 with 1 Axes>"
      ]
     },
     "metadata": {
      "needs_background": "light"
     },
     "output_type": "display_data"
    }
   ],
   "source": [
    "sns.lmplot('OD', 'Color.int',\n",
    "    data = wines, fit_reg = True,\n",
    "    markers = [\"o\", \"x\", \"+\"],\n",
    "    hue = \"Wine\")\n",
    "plt.title('OD and Color.int')"
   ]
  },
  {
   "cell_type": "code",
   "execution_count": null,
   "metadata": {},
   "outputs": [],
   "source": []
  }
 ],
 "metadata": {
  "kernelspec": {
   "display_name": "Python 3.8.8 ('base')",
   "language": "python",
   "name": "python3"
  },
  "language_info": {
   "codemirror_mode": {
    "name": "ipython",
    "version": 3
   },
   "file_extension": ".py",
   "mimetype": "text/x-python",
   "name": "python",
   "nbconvert_exporter": "python",
   "pygments_lexer": "ipython3",
   "version": "3.8.8"
  },
  "orig_nbformat": 4,
  "vscode": {
   "interpreter": {
    "hash": "3b23674b4c091db3faf6a90c227f41c5cc7178bdf9a6143f885b4cb272b8b398"
   }
  }
 },
 "nbformat": 4,
 "nbformat_minor": 2
}
